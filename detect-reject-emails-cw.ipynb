{
 "cells": [
  {
   "cell_type": "markdown",
   "metadata": {
    "jp-MarkdownHeadingCollapsed": true
   },
   "source": [
    "# Comp6481 / 8481 coursework 2024 \n",
    "\n",
    "We will be working with data from https://www.kaggle.com/datasets/sethpoly/application-rejection-emails \n",
    "\n",
    "*Detect Reject Emails* by SethPoly@kaggle\n"
   ]
  },
  {
   "cell_type": "markdown",
   "metadata": {
    "pycharm": {
     "name": "#%% md\n"
    }
   },
   "source": [
    "**Detect Reject Emails Project**\n",
    "\n",
    "This project uses data from [Kaggle's \"Detect Reject Emails\"](https://www.kaggle.com/datasets/sethpoly/application-rejection-emails) dataset, contributed by SethPoly.\n",
    "\n",
    "### Dataset Overview\n",
    "\n",
    "We are working with a dataset titled `Rejection Data - Sheet1.csv`, which contains emails with associated statuses indicating whether the email was a rejection email or not. Our task involves analyzing this data and implementing various NLP techniques.\n",
    "\n",
    "### Project Structure\n",
    "\n",
    "This notebook contains several tasks designed to extract insights from the email data, including calculating lexical richness, visualizing data, and training a Word2Vec model to identify similar tokens.\n",
    "\n",
    "### Data Preparation"
   ]
  },
  {
   "cell_type": "markdown",
   "metadata": {},
   "source": [
    "# Detect Reject emails\n",
    "\n",
    "Author: Sethpoly@kaggle\n",
    "\n",
    "Link: https://www.kaggle.com/code/sethpoly/detect-reject-emails"
   ]
  },
  {
   "cell_type": "markdown",
   "metadata": {
    "papermill": {
     "duration": 0.007364,
     "end_time": "2021-02-27T19:54:38.849830",
     "exception": false,
     "start_time": "2021-02-27T19:54:38.842466",
     "status": "completed"
    },
    "tags": []
   },
   "source": [
    "## Used to detect the rejection emails from jobs applied to.\n"
   ]
  },
  {
   "cell_type": "code",
   "execution_count": 34,
   "metadata": {
    "_cell_guid": "b1076dfc-b9ad-4769-8c92-a6c4dae69d19",
    "_uuid": "8f2839f25d086af736a60e9eeb907d3b93b6e0e5",
    "papermill": {
     "duration": 0.06059,
     "end_time": "2021-02-27T19:54:38.917135",
     "exception": false,
     "start_time": "2021-02-27T19:54:38.856545",
     "status": "completed"
    },
    "tags": []
   },
   "outputs": [
    {
     "data": {
      "text/html": [
       "<div>\n",
       "<style scoped>\n",
       "    .dataframe tbody tr th:only-of-type {\n",
       "        vertical-align: middle;\n",
       "    }\n",
       "\n",
       "    .dataframe tbody tr th {\n",
       "        vertical-align: top;\n",
       "    }\n",
       "\n",
       "    .dataframe thead th {\n",
       "        text-align: right;\n",
       "    }\n",
       "</style>\n",
       "<table border=\"1\" class=\"dataframe\">\n",
       "  <thead>\n",
       "    <tr style=\"text-align: right;\">\n",
       "      <th></th>\n",
       "      <th>Email</th>\n",
       "      <th>Status</th>\n",
       "    </tr>\n",
       "  </thead>\n",
       "  <tbody>\n",
       "    <tr>\n",
       "      <th>124</th>\n",
       "      <td>Starting March 17, 2021, eBay will no longer ...</td>\n",
       "      <td>not_reject</td>\n",
       "    </tr>\n",
       "    <tr>\n",
       "      <th>125</th>\n",
       "      <td>Hi Seth,\\n\\nI want to make finding a great rem...</td>\n",
       "      <td>not_reject</td>\n",
       "    </tr>\n",
       "    <tr>\n",
       "      <th>126</th>\n",
       "      <td>Hello Seth,\\n\\nI just wanted to take a second ...</td>\n",
       "      <td>not_reject</td>\n",
       "    </tr>\n",
       "    <tr>\n",
       "      <th>127</th>\n",
       "      <td>Your free YouMail plan includes 20 in-app tran...</td>\n",
       "      <td>not_reject</td>\n",
       "    </tr>\n",
       "    <tr>\n",
       "      <th>128</th>\n",
       "      <td>\\nSupport resources for developers at all leve...</td>\n",
       "      <td>not_reject</td>\n",
       "    </tr>\n",
       "  </tbody>\n",
       "</table>\n",
       "</div>"
      ],
      "text/plain": [
       "                                                 Email      Status\n",
       "124   Starting March 17, 2021, eBay will no longer ...  not_reject\n",
       "125  Hi Seth,\\n\\nI want to make finding a great rem...  not_reject\n",
       "126  Hello Seth,\\n\\nI just wanted to take a second ...  not_reject\n",
       "127  Your free YouMail plan includes 20 in-app tran...  not_reject\n",
       "128  \\nSupport resources for developers at all leve...  not_reject"
      ]
     },
     "execution_count": 34,
     "metadata": {},
     "output_type": "execute_result"
    }
   ],
   "source": [
    "import numpy as np # linear algebra\n",
    "import pandas as pd \n",
    "from gensim.models import Word2Vec\n",
    "import nltk\n",
    "\n",
    "df = pd.read_csv('Rejection Data - Sheet1.csv')\n",
    "df.tail()"
   ]
  },
  {
   "cell_type": "code",
   "execution_count": 35,
   "metadata": {
    "papermill": {
     "duration": 0.19294,
     "end_time": "2021-02-27T19:54:39.117736",
     "exception": false,
     "start_time": "2021-02-27T19:54:38.924796",
     "status": "completed"
    },
    "tags": []
   },
   "outputs": [
    {
     "data": {
      "text/html": [
       "<div>\n",
       "<style scoped>\n",
       "    .dataframe tbody tr th:only-of-type {\n",
       "        vertical-align: middle;\n",
       "    }\n",
       "\n",
       "    .dataframe tbody tr th {\n",
       "        vertical-align: top;\n",
       "    }\n",
       "\n",
       "    .dataframe thead th {\n",
       "        text-align: right;\n",
       "    }\n",
       "</style>\n",
       "<table border=\"1\" class=\"dataframe\">\n",
       "  <thead>\n",
       "    <tr style=\"text-align: right;\">\n",
       "      <th></th>\n",
       "      <th>Email</th>\n",
       "      <th>Status</th>\n",
       "    </tr>\n",
       "  </thead>\n",
       "  <tbody>\n",
       "    <tr>\n",
       "      <th>124</th>\n",
       "      <td>Starting March 17, 2021, eBay will no longer ...</td>\n",
       "      <td>not_reject</td>\n",
       "    </tr>\n",
       "    <tr>\n",
       "      <th>125</th>\n",
       "      <td>Hi Seth,  I want to make finding a great remot...</td>\n",
       "      <td>not_reject</td>\n",
       "    </tr>\n",
       "    <tr>\n",
       "      <th>126</th>\n",
       "      <td>Hello Seth,  I just wanted to take a second to...</td>\n",
       "      <td>not_reject</td>\n",
       "    </tr>\n",
       "    <tr>\n",
       "      <th>127</th>\n",
       "      <td>Your free YouMail plan includes 20 in-app tran...</td>\n",
       "      <td>not_reject</td>\n",
       "    </tr>\n",
       "    <tr>\n",
       "      <th>128</th>\n",
       "      <td>Support resources for developers at all level...</td>\n",
       "      <td>not_reject</td>\n",
       "    </tr>\n",
       "  </tbody>\n",
       "</table>\n",
       "</div>"
      ],
      "text/plain": [
       "                                                 Email      Status\n",
       "124   Starting March 17, 2021, eBay will no longer ...  not_reject\n",
       "125  Hi Seth,  I want to make finding a great remot...  not_reject\n",
       "126  Hello Seth,  I just wanted to take a second to...  not_reject\n",
       "127  Your free YouMail plan includes 20 in-app tran...  not_reject\n",
       "128   Support resources for developers at all level...  not_reject"
      ]
     },
     "execution_count": 35,
     "metadata": {},
     "output_type": "execute_result"
    }
   ],
   "source": [
    "import string\n",
    "import matplotlib.pyplot as plt\n",
    "import nltk\n",
    "\n",
    "\n",
    "# For the purposes of this assessment, all text processing actions in this cell have been removed except the replacement of newline characters by space characters\n",
    "\n",
    "# convert email text to lowercase\n",
    "#df.Email = df.Email.apply(lambda x: x.lower())\n",
    "# remove punctuation\n",
    "#df.Email = df.Email.apply(lambda x: x.translate(str.maketrans('','', string.punctuation)))\n",
    "# remove numbers\n",
    "#df.Email = df.Email.apply(lambda x: x.translate(str.maketrans('','','1234567890')))\n",
    "# remove newline tags\n",
    "df.Email = df.Email.apply(lambda x: x.translate(str.maketrans('\\n',' ')))\n",
    "df.tail()\n",
    "\n"
   ]
  },
  {
   "cell_type": "code",
   "execution_count": 36,
   "metadata": {},
   "outputs": [
    {
     "data": {
      "image/png": "[encoded data removed]",
      "text/plain": [
       "<Figure size 640x480 with 1 Axes>"
      ]
     },
     "metadata": {},
     "output_type": "display_data"
    }
   ],
   "source": [
    "df.Status.value_counts().plot(kind='bar')\n",
    "plt.show()"
   ]
  },
  {
   "cell_type": "code",
   "execution_count": 38,
   "metadata": {},
   "outputs": [
    {
     "name": "stdout",
     "output_type": "stream",
     "text": [
      "['Thank', 'you', 'for', 'applying', 'to', 'the', 'Junior', 'Software', 'Developer', 'position', 'at', 'MSC', 'Technology', '.', 'Unfortunately', ',', 'MSC', 'Technology', 'has', 'moved', 'to', 'the', 'next', 'step', 'in', 'their', 'hiring', 'process', ',', 'and', 'your', 'application', 'was', 'not', 'selected', 'at', 'this', 'time', '.']\n"
     ]
    }
   ],
   "source": [
    "# Add a column 'Tokens' to df, to hold the email contents as a list of tokens\n",
    "df['Tokens'] = [nltk.word_tokenize(e) for e in df.Email]\n",
    "\n",
    "print(df.Tokens[0])"
   ]
  },
  {
   "cell_type": "code",
   "execution_count": 39,
   "metadata": {
    "papermill": {
     "duration": 1.177122,
     "end_time": "2021-02-27T19:54:40.303234",
     "exception": false,
     "start_time": "2021-02-27T19:54:39.126112",
     "status": "completed"
    },
    "tags": []
   },
   "outputs": [],
   "source": [
    "#from sklearn.feature_extraction.text import CountVectorizer\n",
    "#from sklearn.feature_extraction.text import TfidfVectorizer, TfidfTransformer\n",
    "#from sklearn.preprocessing import LabelEncoder\n",
    "#from sklearn.naive_bayes import MultinomialNB\n",
    "#from sklearn.model_selection import train_test_split\n",
    "#from sklearn.metrics import confusion_matrix\n",
    "#from sklearn.model_selection import cross_val_score\n",
    "#from sklearn.metrics import classification_report\n",
    "\n",
    "# pull data into vectors to create collection of text/tokens\n",
    "#vectorizer = CountVectorizer()\n",
    "#x = vectorizer.fit_transform(df.Email)\n",
    "\n",
    "#encoder = LabelEncoder()\n",
    "#y = encoder.fit_transform(df.Status)\n",
    "\n",
    "# split into train and test sets\n",
    "#x_train, x_test, y_train, y_test = train_test_split(x, y, test_size=0.2)\n",
    "\n",
    "# Shape of sets\n",
    "#print(x_train.shape)\n",
    "#print(y_train.shape)\n",
    "#print(x_test.shape)\n",
    "#print(y_test.shape)"
   ]
  },
  {
   "cell_type": "code",
   "execution_count": 40,
   "metadata": {
    "papermill": {
     "duration": 0.026863,
     "end_time": "2021-02-27T19:54:40.338645",
     "exception": false,
     "start_time": "2021-02-27T19:54:40.311782",
     "status": "completed"
    },
    "tags": []
   },
   "outputs": [],
   "source": [
    "#%%time\n",
    "#nb = MultinomialNB()\n",
    "#nb.fit(x_train, y_train)"
   ]
  },
  {
   "cell_type": "code",
   "execution_count": 41,
   "metadata": {
    "papermill": {
     "duration": 0.022428,
     "end_time": "2021-02-27T19:54:40.370422",
     "exception": false,
     "start_time": "2021-02-27T19:54:40.347994",
     "status": "completed"
    },
    "tags": []
   },
   "outputs": [],
   "source": [
    "#def predict_reject(email):\n",
    "#    category_names = {'reject':'reject','not_reject':'not-reject'}\n",
    "#    cod = nb.predict(vectorizer.transform([email]))\n",
    "#    return category_names[encoder.inverse_transform(cod)[0]]\n",
    "\n",
    "#print(predict_reject('Unfortunately we will not be moving forward'))\n",
    "#print(predict_reject('I found some job listings you may be interested in'))\n",
    "#print(predict_reject('We were very fortunate to have a strong group of applicants to consider for this role and have recently filled this position. Unfortunately, because this role is no longer available, we will not be moving forward with your application.'))\n",
    "#print(predict_reject(''))\n"
   ]
  },
  {
   "cell_type": "code",
   "execution_count": 42,
   "metadata": {
    "papermill": {
     "duration": 0.170594,
     "end_time": "2021-02-27T19:54:40.550675",
     "exception": false,
     "start_time": "2021-02-27T19:54:40.380081",
     "status": "completed"
    },
    "tags": []
   },
   "outputs": [],
   "source": [
    "#from sklearn.linear_model import LogisticRegression\n",
    "#from sklearn.multiclass import OneVsRestClassifier\n",
    "\n",
    "# Init the classfifier\n",
    "#clf = OneVsRestClassifier(LogisticRegression())\n",
    "\n",
    "# Fit classifier to training data\n",
    "#clf.fit(x_train, y_train)\n",
    "\n",
    "# Print accuracy\n",
    "#print(f'Accuracy: {clf.score(x_test, y_test)}')"
   ]
  },
  {
   "cell_type": "code",
   "execution_count": 43,
   "metadata": {
    "papermill": {
     "duration": 0.027733,
     "end_time": "2021-02-27T19:54:40.591067",
     "exception": false,
     "start_time": "2021-02-27T19:54:40.563334",
     "status": "completed"
    },
    "tags": []
   },
   "outputs": [],
   "source": [
    "#x_test_clv_pred = clf.predict(x_test)\n",
    "#confusion_matrix(y_test, x_test_clv_pred)\n",
    "#print(classification_report(y_test, x_test_clv_pred, target_names=encoder.classes_))"
   ]
  },
  {
   "cell_type": "markdown",
   "metadata": {
    "papermill": {
     "duration": 0.010251,
     "end_time": "2021-02-27T19:54:40.612159",
     "exception": false,
     "start_time": "2021-02-27T19:54:40.601908",
     "status": "completed"
    },
    "tags": []
   },
   "source": [
    " - Inspiration and code samples from https://towardsdatascience.com/i-built-a-reject-not-reject-email-classifier-for-my-job-applications-844a3b6cd67e"
   ]
  },
  {
   "cell_type": "markdown",
   "metadata": {},
   "source": [
    "**************************************************************************************\n",
    "* End of code adapted from https://www.kaggle.com/code/sethpoly/detect-reject-emails\n",
    "**************************************************************************************"
   ]
  },
  {
   "cell_type": "markdown",
   "metadata": {},
   "source": [
    "\n",
    "### Task 1: Adding Token Length Column\n",
    "\n",
    "Here, we add a new column `Length` to the DataFrame, which stores the number of tokens (words) in each email."
   ]
  },
  {
   "cell_type": "code",
   "execution_count": 44,
   "metadata": {},
   "outputs": [],
   "source": [
    "# Answer to Q1\n",
    "df['Length'] = df['Tokens'].apply(len)"
   ]
  },
  {
   "cell_type": "code",
   "execution_count": 45,
   "metadata": {},
   "outputs": [
    {
     "name": "stdout",
     "output_type": "stream",
     "text": [
      "0       39\n",
      "1       47\n",
      "2      139\n",
      "3       49\n",
      "4       81\n",
      "      ... \n",
      "124    133\n",
      "125     87\n",
      "126     58\n",
      "127     34\n",
      "128    146\n",
      "Name: Length, Length: 129, dtype: int64\n"
     ]
    }
   ],
   "source": [
    "#Do not edit this cell, except that you can uncomment the line below for testing your answer to this question\n",
    "print(df['Length'])"
   ]
  },
  {
   "cell_type": "markdown",
   "metadata": {},
   "source": [
    "### Task 2: Visualizing Email Length by Status\n",
    "\n",
    "In this task, we visualize the average length of rejection and non-rejection emails using a bar plot."
   ]
  },
  {
   "cell_type": "code",
   "execution_count": 46,
   "metadata": {},
   "outputs": [
    {
     "data": {
      "image/png": "[encoded data removed]",
      "text/plain": [
       "<Figure size 640x480 with 1 Axes>"
      ]
     },
     "metadata": {},
     "output_type": "display_data"
    }
   ],
   "source": [
    "# Answer to Q2a\n",
    "df.groupby('Status')['Length'].mean().plot(kind='bar')\n",
    "plt.xlabel('Status')\n",
    "plt.ylabel('Average Email Lenght')\n",
    "plt.title('Average Email Length by Status')\n",
    "plt.show()"
   ]
  },
  {
   "cell_type": "markdown",
   "metadata": {},
   "source": [
    "### Task 3: Calculating Lexical Richness\n",
    "\n",
    "Lexical richness is defined as the number of unique tokens divided by the total number of tokens in the email. We add a new column `LexRich` to store this value."
   ]
  },
  {
   "cell_type": "code",
   "execution_count": 47,
   "metadata": {},
   "outputs": [],
   "source": [
    "# Answer for Q3\n",
    "df['LexRich'] = len(set(df.Email))/len(df.Email)"
   ]
  },
  {
   "cell_type": "code",
   "execution_count": 48,
   "metadata": {},
   "outputs": [
    {
     "name": "stdout",
     "output_type": "stream",
     "text": [
      "0      1.0\n",
      "1      1.0\n",
      "2      1.0\n",
      "3      1.0\n",
      "4      1.0\n",
      "      ... \n",
      "124    1.0\n",
      "125    1.0\n",
      "126    1.0\n",
      "127    1.0\n",
      "128    1.0\n",
      "Name: LexRich, Length: 129, dtype: float64\n"
     ]
    }
   ],
   "source": [
    "#Do not edit this cell, except that you can uncomment the line below for testing your answer to this question\n",
    "print(df['LexRich'])"
   ]
  },
  {
   "cell_type": "markdown",
   "metadata": {},
   "source": [
    "### Task 4: Lexical Richness Analysis\n",
    "\n",
    "We calculate the average lexical richness for both rejection and non-rejection emails.\n"
   ]
  },
  {
   "cell_type": "code",
   "execution_count": 49,
   "metadata": {},
   "outputs": [],
   "source": [
    "# We can access all the data in df with the Status = 'reject', using this code:\n",
    "# print(df[df.Status=='reject'])\n",
    "# print(df[df.Status=='not_reject'])\n"
   ]
  },
  {
   "cell_type": "code",
   "execution_count": 50,
   "metadata": {},
   "outputs": [],
   "source": [
    "# Answer for Q4a\n",
    "reject_status = df[df.Status=='reject']\n",
    "non_reject_status = df[df.Status=='not_reject']\n",
    "\n",
    "lex_reject = len(set(reject_status)) / len(reject_status)\n",
    "lex_not_reject = len(set(non_reject_status)) / len(non_reject_status)\n"
   ]
  },
  {
   "cell_type": "code",
   "execution_count": 51,
   "metadata": {},
   "outputs": [
    {
     "name": "stdout",
     "output_type": "stream",
     "text": [
      "0.07692307692307693\n",
      "0.078125\n"
     ]
    }
   ],
   "source": [
    "#Do not edit this cell, except that you can uncomment the line below for testing your answer to this question\n",
    "print(lex_reject)\n",
    "print(lex_not_reject)"
   ]
  },
  {
   "cell_type": "markdown",
   "metadata": {},
   "source": [
    "### Task 5: Word2Vec Model\n",
    "\n",
    "We train a Word2Vec model on the tokenized email data to find the top 20 most similar tokens to the token \"developer.\""
   ]
  },
  {
   "cell_type": "code",
   "execution_count": 52,
   "metadata": {},
   "outputs": [],
   "source": [
    "# Answer to Q5 \n",
    "model = Word2Vec(sentences=df.Tokens, vector_size=100, window=5, min_count=1, workers=4)\n"
   ]
  },
  {
   "cell_type": "code",
   "execution_count": 53,
   "metadata": {},
   "outputs": [
    {
     "name": "stdout",
     "output_type": "stream",
     "text": [
      "('1', 0.9166291952133179)\n",
      "('want', 0.9135057926177979)\n",
      "('move', 0.9121819138526917)\n",
      "('visit', 0.9112978577613831)\n",
      "('reviewed', 0.911025881767273)\n",
      "('any', 0.9108964800834656)\n",
      "('ago', 0.9105902910232544)\n",
      "('been', 0.9105844497680664)\n",
      "('but', 0.9103046655654907)\n",
      "('clients', 0.9102919101715088)\n",
      "('what', 0.9101693630218506)\n",
      "('consider', 0.910045862197876)\n",
      "('experience', 0.9098115563392639)\n",
      "('also', 0.9096801280975342)\n",
      "('one', 0.9096653461456299)\n",
      "('position', 0.9096507430076599)\n",
      "('success', 0.9095509052276611)\n",
      "('fit', 0.9095226526260376)\n",
      "('how', 0.9095192551612854)\n",
      "('interest', 0.9094806909561157)\n"
     ]
    }
   ],
   "source": [
    "similar = model.wv.most_similar('developer', topn=20)\n",
    "for sim in similar:\n",
    "    print(sim)"
   ]
  },
  {
   "cell_type": "code",
   "execution_count": 54,
   "metadata": {},
   "outputs": [
    {
     "name": "stderr",
     "output_type": "stream",
     "text": [
      "[nltk_data] Downloading package vader_lexicon to\n",
      "[nltk_data]     /home/wyt/ue34/nltk_data...\n",
      "[nltk_data]   Package vader_lexicon is already up-to-date!\n"
     ]
    },
    {
     "data": {
      "text/plain": [
       "True"
      ]
     },
     "execution_count": 54,
     "metadata": {},
     "output_type": "execute_result"
    }
   ],
   "source": [
    "# Sentiment Analysis \n",
    "nltk.download('vader_lexicon')"
   ]
  },
  {
   "cell_type": "markdown",
   "metadata": {},
   "source": [
    "# Part B"
   ]
  },
  {
   "cell_type": "markdown",
   "metadata": {},
   "source": [
    "Identifying the sentiment score of each email"
   ]
  },
  {
   "cell_type": "code",
   "execution_count": 55,
   "metadata": {},
   "outputs": [],
   "source": [
    "from nltk.sentiment import SentimentIntensityAnalyzer\n",
    "\n",
    "# Initialising the VADER sentiment analyser \n",
    "sid = SentimentIntensityAnalyzer()\n",
    "\n",
    "\n",
    "# Perfoming sentiment analysis on each email and storing the sentiment score\n",
    "df['Sentiment'] = df['Email'].apply(lambda x: sid.polarity_scores(x)['compound'])\n"
   ]
  },
  {
   "cell_type": "markdown",
   "metadata": {},
   "source": [
    "### Performing sentitment analysis on the email dataset"
   ]
  },
  {
   "cell_type": "code",
   "execution_count": 56,
   "metadata": {},
   "outputs": [
    {
     "name": "stdout",
     "output_type": "stream",
     "text": [
      "                                                 Email  Sentiment\n",
      "0    Thank you for applying to the Junior Software ...     0.0258\n",
      "1    Thank you for your interest in the Train To Hi...     0.8885\n",
      "2    eth,   Thank you for your interest in Exyn and...     0.9892\n",
      "3    Thank you for your interest in the Software En...     0.8885\n",
      "4    Hi Seth,  Thank you for your interest in PathA...     0.9747\n",
      "..                                                 ...        ...\n",
      "124   Starting March 17, 2021, eBay will no longer ...     0.3612\n",
      "125  Hi Seth,  I want to make finding a great remot...     0.9848\n",
      "126  Hello Seth,  I just wanted to take a second to...     0.8557\n",
      "127  Your free YouMail plan includes 20 in-app tran...     0.5106\n",
      "128   Support resources for developers at all level...     0.9715\n",
      "\n",
      "[129 rows x 2 columns]\n"
     ]
    }
   ],
   "source": [
    "# Print the first few rows of the DataFrame with the sentiment scores\n",
    "print(df[['Email', 'Sentiment']])"
   ]
  },
  {
   "cell_type": "markdown",
   "metadata": {},
   "source": [
    "Finding out what email is the most positive and negative in the dataset"
   ]
  },
  {
   "cell_type": "code",
   "execution_count": 57,
   "metadata": {},
   "outputs": [],
   "source": [
    "# Finding the most positive email\n",
    "most_positive_email = df.loc[df['Sentiment'].idxmax(), 'Email']\n",
    "\n",
    "# Finding the most negative email\n",
    "most_negative_email = df.loc[df['Sentiment'].idxmin(), 'Email']"
   ]
  },
  {
   "cell_type": "code",
   "execution_count": null,
   "metadata": {},
   "outputs": [
    {
     "name": "stdout",
     "output_type": "stream",
     "text": [
      "Most negative email:  Unfortunately, SoftSages Technology Inc has decided not to move forward with your Software Developer - entry level application at this time. \n",
      "Most positive email:  Hi Seth,  I found a job you may be interested in: 100% REMOTE - Senior Fullstack Engineer  If you'd like to apply, let me know in a quick response with your updated resume. Full job details below.  f you are a Senior Software Engineer with Python and React experience, please read on!  We headquartered in San Francisco, CA area and we are a cutting-edge fintech company that has a passion for helping people. We are revolutionizing an industry that is one of the fastest growing in healthcare! We provide financing solutions and options for people that are looking to advance their lives. We look to take the burden off families during an already stressful process so that they can enjoy the overall process they will be going through. We have only been in business a short time, but are growing very rapidly and making waves in an ever-evolving industry.  We are looking for a Senior Fullstack Engineer who excels with multi-tasking and can help build scalable new software applications and be an integral member on the small team. YOU MUST HAVE EXPERIENCE IN FULLSTACK DEVELOPMENT to be successful in this position.  This person will need to have experience in fullstack development with any front and backend languages and also will have worked heavily with API's. Our tech stack is Python, Flask, and React, but we if you have worked with different development tools in fullstack, that is ok too! We would love to see someone that has experience with a fintech company, although that is not required. This person will be a core member of our team and will work alongside other engineers and professionals who are like-minded and passionate about what we do. Top Reasons to Work with Us -Excellent work environment -HUGE room for growth -Work with a stable, growing company! - Work on something that is changing people lives, literally! What You Will Be Doing - Full-stack software development building scalable software applications - Working with Python and JavaScript (React) - Work heavily through the SDLC from start to finish - Work on testing development and code reviews - Be an integral part of our product and partner with the product development team to insure quality What You Need for this Position Over 3 years of experience in:  - Fullstack web development - Working experience with Python and Flask preferably, but other backend languages are acceptable. - Working frontend development with React.js preferably, but other front end frameworks are also acceptable. - Knowledge of databases specifically with NoSQL - GCP - Building out RESTful APIs. So, if you are a Senior Fullstack Engineer with true fullstack web development experience, please apply today!\n"
     ]
    }
   ],
   "source": [
    "print(\"Most negative email: \", most_negative_email)\n",
    "print(\"Most positive email: \", most_positive_email)"
   ]
  },
  {
   "cell_type": "markdown",
   "metadata": {},
   "source": [
    "####  Scores\n",
    "Scores close to -1 indicate a very negative sentiment and 1 indicates a positive one, 0 means neutral"
   ]
  },
  {
   "cell_type": "markdown",
   "metadata": {},
   "source": [
    "### Word Frequency Analysis"
   ]
  },
  {
   "cell_type": "code",
   "execution_count": 58,
   "metadata": {},
   "outputs": [],
   "source": [
    "# Tokenizing and preprocesing \n",
    "\n",
    "rejection_tokens = [word for email in df[df['Status'] == 'reject']['Tokens'] for word in email]\n",
    "non_rejection_tokens = [word for email in df[df['Status'] == 'not_reject']['Tokens'] for word in email]"
   ]
  },
  {
   "cell_type": "code",
   "execution_count": 59,
   "metadata": {},
   "outputs": [],
   "source": [
    "# Calculate Word Frequencies\n",
    "rejection_word_freq = pd.Series(rejection_tokens).value_counts()\n",
    "non_rejection_word_freq = pd.Series(non_rejection_tokens).value_counts()"
   ]
  },
  {
   "cell_type": "code",
   "execution_count": 60,
   "metadata": {},
   "outputs": [
    {
     "name": "stdout",
     "output_type": "stream",
     "text": [
      ".            236\n",
      ",            230\n",
      "your         190\n",
      "you          179\n",
      "to           170\n",
      "            ... \n",
      "opted          1\n",
      "aligns         1\n",
      "fits           1\n",
      "regularly      1\n",
      "AI-first       1\n",
      "Name: count, Length: 803, dtype: int64\n",
      ".             275\n",
      ",             264\n",
      "to            180\n",
      "you           173\n",
      "your          155\n",
      "             ... \n",
      "renew           1\n",
      "full-price      1\n",
      "Two-Day         1\n",
      "Shipping        1\n",
      "wait            1\n",
      "Name: count, Length: 1807, dtype: int64\n"
     ]
    }
   ],
   "source": [
    "print(rejection_word_freq)\n",
    "print(non_rejection_word_freq)"
   ]
  },
  {
   "cell_type": "code",
   "execution_count": 61,
   "metadata": {},
   "outputs": [],
   "source": [
    "# Visualizing the Results\n",
    "def plot_word_frequency(word_freq, title):\n",
    "    word_freq[:20].plot(kind='bar', figsize=(10, 6))\n",
    "    plt.title(title)\n",
    "    plt.xlabel('Word')\n",
    "    plt.ylabel('Frequency')\n",
    "    plt.xticks(rotation=45)\n",
    "    plt.show()"
   ]
  },
  {
   "cell_type": "code",
   "execution_count": 62,
   "metadata": {},
   "outputs": [
    {
     "data": {
      "image/png": "[encoded data removed]",
      "text/plain": [
       "<Figure size 1000x600 with 1 Axes>"
      ]
     },
     "metadata": {},
     "output_type": "display_data"
    }
   ],
   "source": [
    "# Chart of word frequency for rejection emails\n",
    "plot_word_frequency(rejection_word_freq, 'Word Frequency in Rejection Emails')"
   ]
  },
  {
   "cell_type": "code",
   "execution_count": 63,
   "metadata": {},
   "outputs": [
    {
     "data": {
      "image/png": "[encoded data removed]",
      "text/plain": [
       "<Figure size 1000x600 with 1 Axes>"
      ]
     },
     "metadata": {},
     "output_type": "display_data"
    }
   ],
   "source": [
    "# Chart of word frequency for non-rejection emails\n",
    "plot_word_frequency(non_rejection_word_freq, 'Word Frequency in Non-Rejection Emails')"
   ]
  }
 ],
 "metadata": {
  "kernelspec": {
   "display_name": "Python 3 (ipykernel)",
   "language": "python",
   "name": "python3"
  },
  "language_info": {
   "codemirror_mode": {
    "name": "ipython",
    "version": 3
   },
   "file_extension": ".py",
   "mimetype": "text/x-python",
   "name": "python",
   "nbconvert_exporter": "python",
   "pygments_lexer": "ipython3",
   "version": "3.10.12"
  },
  "papermill": {
   "default_parameters": {},
   "duration": 8.412623,
   "end_time": "2021-02-27T19:54:41.333676",
   "environment_variables": {},
   "exception": null,
   "input_path": "__notebook__.ipynb",
   "output_path": "__notebook__.ipynb",
   "parameters": {},
   "start_time": "2021-02-27T19:54:32.921053",
   "version": "2.2.2"
  }
 },
 "nbformat": 4,
 "nbformat_minor": 4
}
